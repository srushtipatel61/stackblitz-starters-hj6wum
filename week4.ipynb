{
  "nbformat": 4,
  "nbformat_minor": 0,
  "metadata": {
    "colab": {
      "provenance": [],
      "authorship_tag": "ABX9TyOni56aEb4URZqQAWtv5wVX",
      "include_colab_link": true
    },
    "kernelspec": {
      "name": "python3",
      "display_name": "Python 3"
    },
    "language_info": {
      "name": "python"
    }
  },
  "cells": [
    {
      "cell_type": "markdown",
      "metadata": {
        "id": "view-in-github",
        "colab_type": "text"
      },
      "source": [
        "<a href=\"https://colab.research.google.com/github/srushtipatel61/stackblitz-starters-hj6wum/blob/main/week4.ipynb\" target=\"_parent\"><img src=\"https://colab.research.google.com/assets/colab-badge.svg\" alt=\"Open In Colab\"/></a>"
      ]
    },
    {
      "cell_type": "code",
      "execution_count": 1,
      "metadata": {
        "colab": {
          "base_uri": "https://localhost:8080/"
        },
        "id": "BHLcI0zmyvEn",
        "outputId": "d7b172fb-7329-4c06-ee0b-e7862bc0ae37"
      },
      "outputs": [
        {
          "output_type": "stream",
          "name": "stdout",
          "text": [
            "Requirement already satisfied: pyspark in /usr/local/lib/python3.11/dist-packages (3.5.1)\n",
            "Requirement already satisfied: py4j==0.10.9.7 in /usr/local/lib/python3.11/dist-packages (from pyspark) (0.10.9.7)\n"
          ]
        }
      ],
      "source": [
        "!pip install pyspark"
      ]
    },
    {
      "cell_type": "code",
      "source": [
        "from pyspark.sql import SparkSession\n",
        "\n",
        "spark = SparkSession \\\n",
        "    .builder \\\n",
        "    .appName(\"Python Spark SQL basic example\") \\\n",
        "    .config(\"spark.some.config.option\", \"some-value\") \\\n",
        "    .getOrCreate()"
      ],
      "metadata": {
        "id": "FZQRCekqy1Xy"
      },
      "execution_count": 2,
      "outputs": []
    },
    {
      "cell_type": "code",
      "source": [
        "from google.colab import drive\n",
        "drive.mount('/content/drive')"
      ],
      "metadata": {
        "colab": {
          "base_uri": "https://localhost:8080/"
        },
        "id": "s83pqBLR0X0r",
        "outputId": "1cb18334-e109-4e5a-a349-87cdcac9dc6a"
      },
      "execution_count": 3,
      "outputs": [
        {
          "output_type": "stream",
          "name": "stdout",
          "text": [
            "Mounted at /content/drive\n"
          ]
        }
      ]
    },
    {
      "cell_type": "code",
      "source": [
        "#raw_data = spark.read.format(\"csv\").option(\"header\",\"true\").option(\"inferSchema\", \"true\").load(r\".\\\\diabetes.csv\")\n",
        "dataset = spark.read.csv('drive/My Drive/Colab Notebooks/diabetes.csv',inferSchema=True, header =True)"
      ],
      "metadata": {
        "id": "3xSVfsU60i0x"
      },
      "execution_count": 5,
      "outputs": []
    },
    {
      "cell_type": "code",
      "source": [
        "dataset.columns"
      ],
      "metadata": {
        "colab": {
          "base_uri": "https://localhost:8080/"
        },
        "id": "6U-jQ58b09hT",
        "outputId": "f72392ea-1f5d-44a8-e774-c9e7b881d7f6"
      },
      "execution_count": 6,
      "outputs": [
        {
          "output_type": "execute_result",
          "data": {
            "text/plain": [
              "['Pregnancies',\n",
              " 'Glucose',\n",
              " 'BloodPressure',\n",
              " 'SkinThickness',\n",
              " 'Insulin',\n",
              " 'BMI',\n",
              " 'DiabetesPedigreeFunction',\n",
              " 'Age',\n",
              " 'Outcome']"
            ]
          },
          "metadata": {},
          "execution_count": 6
        }
      ]
    },
    {
      "cell_type": "markdown",
      "source": [
        "use describe method to know the data distribution in the columns."
      ],
      "metadata": {
        "id": "eDcWJymi1vrI"
      }
    },
    {
      "cell_type": "code",
      "source": [
        "dataset.describe().select(\"Summary\",\"Pregnancies\",\"Glucose\",\"BloodPressure\",\"Age\").show()"
      ],
      "metadata": {
        "colab": {
          "base_uri": "https://localhost:8080/"
        },
        "id": "2tgy1iTS1wiQ",
        "outputId": "87cb5bf3-7a42-4ba4-e594-3e61195c9e0d"
      },
      "execution_count": 9,
      "outputs": [
        {
          "output_type": "stream",
          "name": "stdout",
          "text": [
            "+-------+------------------+-----------------+------------------+------------------+\n",
            "|Summary|       Pregnancies|          Glucose|     BloodPressure|               Age|\n",
            "+-------+------------------+-----------------+------------------+------------------+\n",
            "|  count|               768|              768|               768|               768|\n",
            "|   mean|3.8450520833333335|     120.89453125|       69.10546875|33.240885416666664|\n",
            "| stddev|  3.36957806269887|31.97261819513622|19.355807170644777|11.760231540678689|\n",
            "|    min|                 0|                0|                 0|                21|\n",
            "|    max|                17|              199|               122|                81|\n",
            "+-------+------------------+-----------------+------------------+------------------+\n",
            "\n"
          ]
        }
      ]
    },
    {
      "cell_type": "code",
      "source": [
        "dataset.describe().select(\"Summary\",\"SkinThickness\",\"Insulin\").show()"
      ],
      "metadata": {
        "colab": {
          "base_uri": "https://localhost:8080/"
        },
        "id": "1uRPu4Zl2odQ",
        "outputId": "707e743b-6c3e-44de-e6c6-d64aea5fbfc2"
      },
      "execution_count": 10,
      "outputs": [
        {
          "output_type": "stream",
          "name": "stdout",
          "text": [
            "+-------+------------------+------------------+\n",
            "|Summary|     SkinThickness|           Insulin|\n",
            "+-------+------------------+------------------+\n",
            "|  count|               768|               768|\n",
            "|   mean|20.536458333333332| 79.79947916666667|\n",
            "| stddev|15.952217567727642|115.24400235133803|\n",
            "|    min|                 0|                 0|\n",
            "|    max|                99|               846|\n",
            "+-------+------------------+------------------+\n",
            "\n"
          ]
        }
      ]
    },
    {
      "cell_type": "code",
      "source": [
        "dataset.describe().select(\"Summary\",\"BMI\",\"DiabetesPedigreeFunction\",\"Age\").show()"
      ],
      "metadata": {
        "colab": {
          "base_uri": "https://localhost:8080/"
        },
        "id": "SuFjk0FU4RwQ",
        "outputId": "27090876-1039-4002-a1e3-d981390b8ea7"
      },
      "execution_count": 11,
      "outputs": [
        {
          "output_type": "stream",
          "name": "stdout",
          "text": [
            "+-------+------------------+------------------------+------------------+\n",
            "|Summary|               BMI|DiabetesPedigreeFunction|               Age|\n",
            "+-------+------------------+------------------------+------------------+\n",
            "|  count|               768|                     768|               768|\n",
            "|   mean|31.992578124999977|      0.4718763020833327|33.240885416666664|\n",
            "| stddev| 7.884160320375441|       0.331328595012775|11.760231540678689|\n",
            "|    min|               0.0|                   0.078|                21|\n",
            "|    max|              67.1|                    2.42|                81|\n",
            "+-------+------------------+------------------------+------------------+\n",
            "\n"
          ]
        }
      ]
    },
    {
      "cell_type": "code",
      "source": [
        "dataset.describe().select(\"Summary\",\"Outcome\").show()"
      ],
      "metadata": {
        "colab": {
          "base_uri": "https://localhost:8080/"
        },
        "id": "DCwqQiUC4Uyn",
        "outputId": "ba031594-ad8e-45ab-badc-a7ba14f382bc"
      },
      "execution_count": 12,
      "outputs": [
        {
          "output_type": "stream",
          "name": "stdout",
          "text": [
            "+-------+------------------+\n",
            "|Summary|           Outcome|\n",
            "+-------+------------------+\n",
            "|  count|               768|\n",
            "|   mean|0.3489583333333333|\n",
            "| stddev| 0.476951377242799|\n",
            "|    min|                 0|\n",
            "|    max|                 1|\n",
            "+-------+------------------+\n",
            "\n"
          ]
        }
      ]
    },
    {
      "cell_type": "markdown",
      "source": [
        "In PySpark DataFrame you can calculate the count of Null, None, NaN & Empty Blank values in a column by using isNull() of Column class & SQL functions isnan() count() and when()."
      ],
      "metadata": {
        "id": "9kzKJS_45Lii"
      }
    },
    {
      "cell_type": "code",
      "source": [
        "from pyspark.sql.functions import col,isnan, when, count\n",
        "dataset.select([count(when(isnan(c) | col(c).isNull(), c)).alias(c) for c in dataset.columns]\n",
        "    ).show()"
      ],
      "metadata": {
        "colab": {
          "base_uri": "https://localhost:8080/"
        },
        "id": "EUYq31hX5TmS",
        "outputId": "63b41e98-9214-4fc1-99ae-7e0e718e010d"
      },
      "execution_count": 13,
      "outputs": [
        {
          "output_type": "stream",
          "name": "stdout",
          "text": [
            "+-----------+-------+-------------+-------------+-------+---+------------------------+---+-------+\n",
            "|Pregnancies|Glucose|BloodPressure|SkinThickness|Insulin|BMI|DiabetesPedigreeFunction|Age|Outcome|\n",
            "+-----------+-------+-------------+-------------+-------+---+------------------------+---+-------+\n",
            "|          0|      0|            0|            0|      0|  0|                       0|  0|      0|\n",
            "+-----------+-------+-------------+-------------+-------+---+------------------------+---+-------+\n",
            "\n"
          ]
        }
      ]
    },
    {
      "cell_type": "code",
      "source": [
        "import numpy as np\n",
        "from pyspark.sql.functions import when\n",
        "dataset=dataset.withColumn(\"Glucose\",when(dataset.Glucose==0,np.nan).otherwise (dataset.Glucose))\n",
        "dataset=dataset.withColumn(\"BloodPressure\",when(dataset.BloodPressure==0,np.nan).otherwise(dataset.BloodPressure))\n",
        "dataset=dataset.withColumn(\"SkinThickness\",when(dataset.SkinThickness==0,np.nan).otherwise(dataset.SkinThickness))\n",
        "dataset=dataset.withColumn(\"BMI\",when(dataset.BMI==0,np.nan).otherwise(dataset.BMI))\n",
        "dataset=dataset.withColumn(\"Insulin\",when(dataset.Insulin==0,np.nan).otherwise(dataset.Insulin))\n",
        "dataset.select(\"Insulin\",\"Glucose\",\"BloodPressure\",\"SkinThickness\",\"BMI\").show(5)"
      ],
      "metadata": {
        "colab": {
          "base_uri": "https://localhost:8080/"
        },
        "id": "RwSGYGSJ9HA5",
        "outputId": "b0614bde-fe51-4f73-beb0-24c34007b61b"
      },
      "execution_count": 14,
      "outputs": [
        {
          "output_type": "stream",
          "name": "stdout",
          "text": [
            "+-------+-------+-------------+-------------+----+\n",
            "|Insulin|Glucose|BloodPressure|SkinThickness| BMI|\n",
            "+-------+-------+-------------+-------------+----+\n",
            "|    NaN|  148.0|         72.0|         35.0|33.6|\n",
            "|    NaN|   85.0|         66.0|         29.0|26.6|\n",
            "|    NaN|  183.0|         64.0|          NaN|23.3|\n",
            "|   94.0|   89.0|         66.0|         23.0|28.1|\n",
            "|  168.0|  137.0|         40.0|         35.0|43.1|\n",
            "+-------+-------+-------------+-------------+----+\n",
            "only showing top 5 rows\n",
            "\n"
          ]
        }
      ]
    },
    {
      "cell_type": "code",
      "source": [
        "from pyspark.sql.functions import col,isnan, when, count\n",
        "dataset.select([count(when(isnan(c) , c)).alias(c) for c in dataset.columns]\n",
        "   ).show()"
      ],
      "metadata": {
        "colab": {
          "base_uri": "https://localhost:8080/"
        },
        "id": "M4ky0g399N9o",
        "outputId": "72aaa8e3-e94c-43f2-81bd-85f66805cc9f"
      },
      "execution_count": 15,
      "outputs": [
        {
          "output_type": "stream",
          "name": "stdout",
          "text": [
            "+-----------+-------+-------------+-------------+-------+---+------------------------+---+-------+\n",
            "|Pregnancies|Glucose|BloodPressure|SkinThickness|Insulin|BMI|DiabetesPedigreeFunction|Age|Outcome|\n",
            "+-----------+-------+-------------+-------------+-------+---+------------------------+---+-------+\n",
            "|          0|      5|           35|          227|    374| 11|                       0|  0|      0|\n",
            "+-----------+-------+-------------+-------------+-------+---+------------------------+---+-------+\n",
            "\n"
          ]
        }
      ]
    },
    {
      "cell_type": "code",
      "source": [
        "from pyspark.ml.feature import Imputer\n",
        "imputer=Imputer(inputCols=[\"Glucose\",\"BloodPressure\",\"SkinThickness\",\"BMI\",\"Insulin\"],outputCols=[\"Glucose\",\"BloodPressure\",\"SkinThickness\",\"BMI\",\"Insulin\"])\n",
        "model=imputer.fit(dataset)\n",
        "dataset=model.transform(dataset)\n",
        "dataset.show(5)"
      ],
      "metadata": {
        "colab": {
          "base_uri": "https://localhost:8080/"
        },
        "id": "_6es1lkK9rFx",
        "outputId": "e50cccab-ac72-471f-f7c0-323b06dc79fe"
      },
      "execution_count": 16,
      "outputs": [
        {
          "output_type": "stream",
          "name": "stdout",
          "text": [
            "+-----------+-------+-------------+------------------+-----------------+----+------------------------+---+-------+\n",
            "|Pregnancies|Glucose|BloodPressure|     SkinThickness|          Insulin| BMI|DiabetesPedigreeFunction|Age|Outcome|\n",
            "+-----------+-------+-------------+------------------+-----------------+----+------------------------+---+-------+\n",
            "|          6|  148.0|         72.0|              35.0|155.5482233502538|33.6|                   0.627| 50|      1|\n",
            "|          1|   85.0|         66.0|              29.0|155.5482233502538|26.6|                   0.351| 31|      0|\n",
            "|          8|  183.0|         64.0|29.153419593345657|155.5482233502538|23.3|                   0.672| 32|      1|\n",
            "|          1|   89.0|         66.0|              23.0|             94.0|28.1|                   0.167| 21|      0|\n",
            "|          0|  137.0|         40.0|              35.0|            168.0|43.1|                   2.288| 33|      1|\n",
            "+-----------+-------+-------------+------------------+-----------------+----+------------------------+---+-------+\n",
            "only showing top 5 rows\n",
            "\n"
          ]
        }
      ]
    },
    {
      "cell_type": "code",
      "source": [
        "cols=dataset.columns\n",
        "cols.remove(\"Outcome\")\n",
        "# Let us import the vector assembler\n",
        "from pyspark.ml.feature import VectorAssembler\n",
        "assembler = VectorAssembler(inputCols=cols,outputCol=\"features\")\n",
        "# Now let us use the transform method to transform our dataset\n",
        "dataset=assembler.transform(dataset)\n",
        "dataset.select(\"features\").show(truncate=False)"
      ],
      "metadata": {
        "colab": {
          "base_uri": "https://localhost:8080/"
        },
        "id": "pC0j-x189uYL",
        "outputId": "35e7ed38-3e95-4a41-a29a-68fa672f21f7"
      },
      "execution_count": 17,
      "outputs": [
        {
          "output_type": "stream",
          "name": "stdout",
          "text": [
            "+-----------------------------------------------------------------------------------+\n",
            "|features                                                                           |\n",
            "+-----------------------------------------------------------------------------------+\n",
            "|[6.0,148.0,72.0,35.0,155.5482233502538,33.6,0.627,50.0]                            |\n",
            "|[1.0,85.0,66.0,29.0,155.5482233502538,26.6,0.351,31.0]                             |\n",
            "|[8.0,183.0,64.0,29.153419593345657,155.5482233502538,23.3,0.672,32.0]              |\n",
            "|[1.0,89.0,66.0,23.0,94.0,28.1,0.167,21.0]                                          |\n",
            "|[0.0,137.0,40.0,35.0,168.0,43.1,2.288,33.0]                                        |\n",
            "|[5.0,116.0,74.0,29.153419593345657,155.5482233502538,25.6,0.201,30.0]              |\n",
            "|[3.0,78.0,50.0,32.0,88.0,31.0,0.248,26.0]                                          |\n",
            "|[10.0,115.0,72.40518417462484,29.153419593345657,155.5482233502538,35.3,0.134,29.0]|\n",
            "|[2.0,197.0,70.0,45.0,543.0,30.5,0.158,53.0]                                        |\n",
            "|[8.0,125.0,96.0,29.153419593345657,155.5482233502538,32.45746367239099,0.232,54.0] |\n",
            "|[4.0,110.0,92.0,29.153419593345657,155.5482233502538,37.6,0.191,30.0]              |\n",
            "|[10.0,168.0,74.0,29.153419593345657,155.5482233502538,38.0,0.537,34.0]             |\n",
            "|[10.0,139.0,80.0,29.153419593345657,155.5482233502538,27.1,1.441,57.0]             |\n",
            "|[1.0,189.0,60.0,23.0,846.0,30.1,0.398,59.0]                                        |\n",
            "|[5.0,166.0,72.0,19.0,175.0,25.8,0.587,51.0]                                        |\n",
            "|[7.0,100.0,72.40518417462484,29.153419593345657,155.5482233502538,30.0,0.484,32.0] |\n",
            "|[0.0,118.0,84.0,47.0,230.0,45.8,0.551,31.0]                                        |\n",
            "|[7.0,107.0,74.0,29.153419593345657,155.5482233502538,29.6,0.254,31.0]              |\n",
            "|[1.0,103.0,30.0,38.0,83.0,43.3,0.183,33.0]                                         |\n",
            "|[1.0,115.0,70.0,30.0,96.0,34.6,0.529,32.0]                                         |\n",
            "+-----------------------------------------------------------------------------------+\n",
            "only showing top 20 rows\n",
            "\n"
          ]
        }
      ]
    },
    {
      "cell_type": "code",
      "source": [
        "from pyspark.ml.feature import StandardScaler\n",
        "standardscaler=StandardScaler().setInputCol(\"features\").setOutputCol(\"Scaled_features\")\n",
        "dataset=standardscaler.fit(dataset).transform(dataset)\n",
        "dataset.select(\"features\",\"Scaled_features\").show(5)"
      ],
      "metadata": {
        "colab": {
          "base_uri": "https://localhost:8080/"
        },
        "id": "8Pr3psQz99Nx",
        "outputId": "f06d02a4-6e5a-4651-e9ba-1cbd70674d81"
      },
      "execution_count": 18,
      "outputs": [
        {
          "output_type": "stream",
          "name": "stdout",
          "text": [
            "+--------------------+--------------------+\n",
            "|            features|     Scaled_features|\n",
            "+--------------------+--------------------+\n",
            "|[6.0,148.0,72.0,3...|[1.78063837321943...|\n",
            "|[1.0,85.0,66.0,29...|[0.29677306220323...|\n",
            "|[8.0,183.0,64.0,2...|[2.37418449762590...|\n",
            "|[1.0,89.0,66.0,23...|[0.29677306220323...|\n",
            "|[0.0,137.0,40.0,3...|[0.0,4.5012560836...|\n",
            "+--------------------+--------------------+\n",
            "only showing top 5 rows\n",
            "\n"
          ]
        }
      ]
    },
    {
      "cell_type": "code",
      "source": [
        "train, test = dataset.randomSplit([0.8, 0.2], seed=12345)"
      ],
      "metadata": {
        "id": "_PQhK8Sa-BQC"
      },
      "execution_count": 19,
      "outputs": []
    },
    {
      "cell_type": "code",
      "source": [
        "dataset_size=float(train.select(\"Outcome\").count())\n",
        "numPositives=train.select(\"Outcome\").where('Outcome == 1').count()\n",
        "per_ones=(float(numPositives)/float(dataset_size))*100\n",
        "numNegatives=float(dataset_size-numPositives)\n",
        "print('The number of ones are {}'.format(numPositives))\n",
        "print('Percentage of ones are {}'.format(per_ones))"
      ],
      "metadata": {
        "colab": {
          "base_uri": "https://localhost:8080/"
        },
        "id": "FAjqR64K-Gsx",
        "outputId": "ccb8be81-a44a-4ef4-d769-b483c779fdfe"
      },
      "execution_count": 20,
      "outputs": [
        {
          "output_type": "stream",
          "name": "stdout",
          "text": [
            "The number of ones are 221\n",
            "Percentage of ones are 35.24720893141946\n"
          ]
        }
      ]
    },
    {
      "cell_type": "code",
      "source": [
        "BalancingRatio= numNegatives/dataset_size\n",
        "print('BalancingRatio = {}'.format(BalancingRatio))"
      ],
      "metadata": {
        "colab": {
          "base_uri": "https://localhost:8080/"
        },
        "id": "Loml0e4V-gGi",
        "outputId": "586d5fef-341b-4365-ff8c-90dcd05bac23"
      },
      "execution_count": 21,
      "outputs": [
        {
          "output_type": "stream",
          "name": "stdout",
          "text": [
            "BalancingRatio = 0.6475279106858054\n"
          ]
        }
      ]
    },
    {
      "cell_type": "code",
      "source": [
        "train=train.withColumn(\"classWeights\", when(train.Outcome == 1,BalancingRatio).otherwise(1-BalancingRatio))\n",
        "train.select(\"classWeights\").show(5)"
      ],
      "metadata": {
        "colab": {
          "base_uri": "https://localhost:8080/"
        },
        "id": "FnFLVFYl-0Bc",
        "outputId": "ca84fdb1-deb8-4cf9-d94f-9e8df87fc3a3"
      },
      "execution_count": 22,
      "outputs": [
        {
          "output_type": "stream",
          "name": "stdout",
          "text": [
            "+------------------+\n",
            "|      classWeights|\n",
            "+------------------+\n",
            "|0.3524720893141946|\n",
            "|0.3524720893141946|\n",
            "|0.3524720893141946|\n",
            "|0.3524720893141946|\n",
            "|0.3524720893141946|\n",
            "+------------------+\n",
            "only showing top 5 rows\n",
            "\n"
          ]
        }
      ]
    },
    {
      "cell_type": "code",
      "source": [
        "from pyspark.ml.feature import ChiSqSelector\n",
        "css = ChiSqSelector(featuresCol='Scaled_features',outputCol='Aspect',labelCol='Outcome',fpr=0.05)\n",
        "train=css.fit(train).transform(train)\n",
        "test=css.fit(test).transform(test)\n",
        "test.select(\"Aspect\").show(5,truncate=False)"
      ],
      "metadata": {
        "colab": {
          "base_uri": "https://localhost:8080/"
        },
        "id": "dN16Givi-8v7",
        "outputId": "45217f42-6d02-4b7f-f458-5f538e9880ef"
      },
      "execution_count": 23,
      "outputs": [
        {
          "output_type": "stream",
          "name": "stdout",
          "text": [
            "+----------------------------------------------------------------------------------------------------------------------------------------+\n",
            "|Aspect                                                                                                                                  |\n",
            "+----------------------------------------------------------------------------------------------------------------------------------------+\n",
            "|[0.0,2.7598942410664704,6.778906518747398,3.526357045954172,1.4702231396384098,5.556241336417194,0.7032293726142661,1.955743806611537]  |\n",
            "|[0.0,3.3184442660442084,5.290853868290652,1.93380870262003,1.8295247783934943,3.0544782215906037,0.7605742570763735,1.785679127775751]  |\n",
            "|[0.0,3.3184442660442084,5.373523459982693,3.1850966866682846,1.8295247783934943,3.5781030595775647,0.7153019798694465,1.870711467193644]|\n",
            "|[0.0,3.3513001498664283,6.2002193769031075,2.616329421191805,1.8295247783934943,4.720981710256498,1.726382837490816,1.785679127775751]  |\n",
            "|[0.0,3.449867801333088,5.621532235058818,2.5025759680965094,1.8295247783934943,2.9090268777053367,0.7122838280556514,1.870711467193644] |\n",
            "+----------------------------------------------------------------------------------------------------------------------------------------+\n",
            "only showing top 5 rows\n",
            "\n"
          ]
        }
      ]
    },
    {
      "cell_type": "code",
      "source": [
        "from pyspark.ml.classification import LogisticRegression\n",
        "lr = LogisticRegression(labelCol=\"Outcome\", featuresCol=\"Aspect\",weightCol=\"classWeights\",maxIter=10)\n",
        "model=lr.fit(train)\n",
        "predict_train=model.transform(train)\n",
        "predict_test=model.transform(test)\n",
        "predict_test.select(\"Outcome\",\"prediction\").show(10)"
      ],
      "metadata": {
        "colab": {
          "base_uri": "https://localhost:8080/"
        },
        "id": "RZ5AeWKz-_6r",
        "outputId": "c4e375ad-9f95-457e-86b7-6c59182b903f"
      },
      "execution_count": 24,
      "outputs": [
        {
          "output_type": "stream",
          "name": "stdout",
          "text": [
            "+-------+----------+\n",
            "|Outcome|prediction|\n",
            "+-------+----------+\n",
            "|      0|       0.0|\n",
            "|      0|       0.0|\n",
            "|      0|       0.0|\n",
            "|      0|       0.0|\n",
            "|      0|       0.0|\n",
            "|      0|       0.0|\n",
            "|      0|       0.0|\n",
            "|      0|       0.0|\n",
            "|      1|       1.0|\n",
            "|      1|       1.0|\n",
            "+-------+----------+\n",
            "only showing top 10 rows\n",
            "\n"
          ]
        }
      ]
    },
    {
      "cell_type": "code",
      "source": [
        "from pyspark.ml.evaluation import BinaryClassificationEvaluator\n",
        "evaluator=BinaryClassificationEvaluator(rawPredictionCol='prediction',labelCol=\"Outcome\")\n",
        "auroc = evaluator.evaluate(predict_test, {evaluator.metricName: \"areaUnderROC\"})\n",
        "print(\"Area under ROC Curve: {:.4f}\".format(auroc))\n",
        "predict_test.select(\"Outcome\",\"prediction\",\"probability\").show(15)"
      ],
      "metadata": {
        "colab": {
          "base_uri": "https://localhost:8080/"
        },
        "id": "ZAzMy1Id_E8y",
        "outputId": "b3a95c43-2a73-43fc-ef9b-3541a3cc72a5"
      },
      "execution_count": 25,
      "outputs": [
        {
          "output_type": "stream",
          "name": "stdout",
          "text": [
            "Area under ROC Curve: 0.7713\n",
            "+-------+----------+--------------------+\n",
            "|Outcome|prediction|         probability|\n",
            "+-------+----------+--------------------+\n",
            "|      0|       0.0|[0.87292038835456...|\n",
            "|      0|       0.0|[0.94618041741076...|\n",
            "|      0|       0.0|[0.92885665332668...|\n",
            "|      0|       0.0|[0.81912314746457...|\n",
            "|      0|       0.0|[0.94599058003314...|\n",
            "|      0|       0.0|[0.72979473145077...|\n",
            "|      0|       0.0|[0.52417611402326...|\n",
            "|      0|       0.0|[0.51297928888087...|\n",
            "|      1|       1.0|[0.29576546918793...|\n",
            "|      1|       1.0|[0.09605578961711...|\n",
            "|      0|       1.0|[0.04744916589814...|\n",
            "|      0|       0.0|[0.97343642134508...|\n",
            "|      0|       0.0|[0.75807159193041...|\n",
            "|      0|       0.0|[0.97684628280502...|\n",
            "|      0|       0.0|[0.57901902775435...|\n",
            "+-------+----------+--------------------+\n",
            "only showing top 15 rows\n",
            "\n"
          ]
        }
      ]
    },
    {
      "cell_type": "code",
      "source": [
        "print(model.summary)\n",
        "import matplotlib.pyplot as plt\n",
        "pr = model.summary.pr.toPandas()\n",
        "plt.plot(pr['recall'],pr['precision'])\n",
        "plt.ylabel('Precision')\n",
        "plt.xlabel('Recall')\n",
        "plt.show()\n",
        "print(\"Model Accuracy\",model.summary.accuracy)\n",
        "print(\"FP rate\",model.summary.falsePositiveRateByLabel)\n",
        "print(\"TR rate\",model.summary.truePositiveRateByLabel)"
      ],
      "metadata": {
        "colab": {
          "base_uri": "https://localhost:8080/",
          "height": 518
        },
        "id": "V6DF0ggR_OTr",
        "outputId": "081f8eda-e2eb-49cc-9804-28cfa99fdf27"
      },
      "execution_count": 26,
      "outputs": [
        {
          "output_type": "stream",
          "name": "stdout",
          "text": [
            "<pyspark.ml.classification.BinaryLogisticRegressionTrainingSummary object at 0x7de596712390>\n"
          ]
        },
        {
          "output_type": "display_data",
          "data": {
            "text/plain": [
              "<Figure size 640x480 with 1 Axes>"
            ],
            "image/png": "[encoded data removed]"
          },
          "metadata": {}
        },
        {
          "output_type": "stream",
          "name": "stdout",
          "text": [
            "Model Accuracy 0.7470298464213271\n",
            "FP rate [0.2941176470588231, 0.21182266009852244]\n",
            "TR rate [0.7881773399014775, 0.7058823529411768]\n"
          ]
        }
      ]
    },
    {
      "cell_type": "code",
      "source": [
        "pr = predict_test.toPandas()\n",
        "TruePositive =0\n",
        "FalsePositive=0\n",
        "TrueNegative=0\n",
        "FalseNegative=0\n",
        "Postive=1.0\n",
        "Negative=0.0\n",
        "pos=0\n",
        "Neg=0\n",
        "\n",
        "print(\"Total\",len(pr[\"Outcome\"]))\n",
        "for lbl in range(len(pr[\"Outcome\"])):\n",
        "  if  pr[\"prediction\"][lbl]==Postive:\n",
        "    pos+=1\n",
        "    if pr[\"prediction\"][lbl]==pr[\"Outcome\"][lbl]:\n",
        "      TruePositive+=1\n",
        "    else:\n",
        "      FalsePositive+=1\n",
        "  if  pr[\"prediction\"][lbl]==Negative:\n",
        "    Neg+=1\n",
        "    if pr[\"prediction\"][lbl]==pr[\"Outcome\"][lbl]:\n",
        "      TrueNegative+=1\n",
        "    else:\n",
        "      FalseNegative+=1\n",
        "#print(\"Total Positive & Negative predicted,  diabetes: \",pos,\",Non Diabetes\",Neg)\n",
        "print(\"TruePostive\",TruePositive,\"FalsePostive\",FalsePositive)\n",
        "print(\"TrueNegative\",TrueNegative,\"FalseNegative\",FalseNegative)"
      ],
      "metadata": {
        "colab": {
          "base_uri": "https://localhost:8080/"
        },
        "id": "Ow_w19-6_TdD",
        "outputId": "eafbf41c-d4e9-4383-df11-a0c7ceaa853f"
      },
      "execution_count": 27,
      "outputs": [
        {
          "output_type": "stream",
          "name": "stdout",
          "text": [
            "Total 141\n",
            "TruePostive 36 FalsePostive 21\n",
            "TrueNegative 73 FalseNegative 11\n"
          ]
        }
      ]
    },
    {
      "cell_type": "code",
      "source": [
        "import seaborn as sns\n",
        "import matplotlib.pyplot as plt\n",
        "\n",
        "TN = TrueNegative\n",
        "FP = FalsePositive\n",
        "FN = FalseNegative\n",
        "TP = TruePositive\n",
        "conf_matrix = np.array([[TN, FP],\n",
        "                        [FN, TP]])\n",
        "labels = [\"Negative (0)\", \"Positive (1)\"]\n",
        "\n",
        "plt.figure(figsize=(6, 5))\n",
        "sns.heatmap(conf_matrix, annot=True,  cmap=\"Blues\",\n",
        "            xticklabels=labels, yticklabels=labels)\n",
        "plt.xlabel(\"Predicted Label\")\n",
        "plt.ylabel(\"True Label\")\n",
        "plt.title(\"Confusion Matrix\")\n",
        "plt.show()"
      ],
      "metadata": {
        "colab": {
          "base_uri": "https://localhost:8080/",
          "height": 487
        },
        "id": "lkAQS64I_Wur",
        "outputId": "f5fa5559-3b6d-4d8f-8215-75994a9d5c15"
      },
      "execution_count": 28,
      "outputs": [
        {
          "output_type": "display_data",
          "data": {
            "text/plain": [
              "<Figure size 600x500 with 2 Axes>"
            ],
            "image/png": "[encoded data removed]"
          },
          "metadata": {}
        }
      ]
    },
    {
      "cell_type": "code",
      "source": [
        "precision = TP / (TP + FP) if (TP + FP) > 0 else 0\n",
        "recall = TP / (TP + FN) if (TP + FN) > 0 else 0\n",
        "f1_score = 2 * (precision * recall) / (precision + recall) if (precision + recall) > 0 else 0\n",
        "\n",
        "print(f\"Precision: {precision:.4f}\")\n",
        "print(f\"Recall:    {recall:.4f}\")\n",
        "print(f\"F1-score:  {f1_score:.4f}\")"
      ],
      "metadata": {
        "colab": {
          "base_uri": "https://localhost:8080/"
        },
        "id": "p7zriBxv_Z8r",
        "outputId": "dd2035f3-e321-4656-8e5a-af19187f177a"
      },
      "execution_count": 29,
      "outputs": [
        {
          "output_type": "stream",
          "name": "stdout",
          "text": [
            "Precision: 0.6316\n",
            "Recall:    0.7660\n",
            "F1-score:  0.6923\n"
          ]
        }
      ]
    }
  ]
}